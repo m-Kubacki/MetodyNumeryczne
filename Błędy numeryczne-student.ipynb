{
 "cells": [
  {
   "cell_type": "markdown",
   "id": "different-patrol",
   "metadata": {},
   "source": [
    "# Błędy numeryczne"
   ]
  },
  {
   "cell_type": "markdown",
   "id": "laughing-breeding",
   "metadata": {},
   "source": [
    "Zagadnienia:\n",
    "* Reprezentacja liczb w komputerze:\n",
    "    * Zapis stałoprzecinkowy,\n",
    "    * Zapis zmiennoprzecinkowy (standard IEEE 754),\n",
    "* Błędy numeryczne:\n",
    "    * Błąd względny i bezwzględny.\n",
    "    * Błąd zaokrąglenia (ang. *round-off error*).\n",
    "    * Błąd obcięcia (ang. *truncation error*).\n",
    "    * Błędy związane z przyjętym sposobem rozwiązywania."
   ]
  },
  {
   "cell_type": "markdown",
   "id": "rotary-frank",
   "metadata": {},
   "source": [
    "## Błąd względny i bezwzględny"
   ]
  },
  {
   "cell_type": "markdown",
   "id": "actual-representation",
   "metadata": {},
   "source": [
    "***Zadanie 1.***  \n",
    "Liczbę $\\textrm{e}$ możemy zdefiniować jako $\\sum\\limits_{n=0}^{\\infty} \\frac{1}{n!}$. Oblicz błąd względny i bezwzględny aproksymacji liczby $\\textrm{e}$ poprzez $\\textrm{e}^{*}$ w przypadku gdy:  \n",
    "* $\\textrm{e}_1^{*}=\\sum\\limits_{n=0}^{5} \\frac{1}{n!}$    \n",
    "\n",
    "* $\\textrm{e}_2^{*}=\\sum\\limits_{n=0}^{10} \\frac{1}{n!}$  \n",
    "\n",
    "* $\\textrm{e}_3^{*}=\\sum\\limits_{n=0}^{20} \\frac{1}{n!}$  "
   ]
  },
  {
   "cell_type": "code",
   "execution_count": 1,
   "id": "chinese-mathematics",
   "metadata": {},
   "outputs": [
    {
     "name": "stdout",
     "output_type": "stream",
     "text": [
      "dla e1:\n",
      "wartosc przyblizona:  2.7166666666666663\n",
      "blad bezwzgledny:  0.0016151617923787498\n",
      "blad wzgledny:  0.0005941848175817597\n",
      "dla e2:\n",
      "wartosc przyblizona:  2.7182818011463845\n",
      "blad bezwzgledny:  2.7312660577649694e-08\n",
      "blad wzgledny:  1.0047766310211053e-08\n",
      "dla e3:\n",
      "wartosc przyblizona:  2.7182818284590455\n",
      "blad bezwzgledny:  4.440892098500626e-16\n",
      "blad wzgledny:  1.6337129034990842e-16\n"
     ]
    }
   ],
   "source": [
    "import math\n",
    "def oblicz_e(x):\n",
    "    e = 0\n",
    "    for i in range(x):\n",
    "        e += 1 /math.factorial(i)\n",
    "    return e\n",
    "\n",
    "def oblicz_blad(e_star):\n",
    "    blad_bezwzgledny = abs(math.e - e_star)\n",
    "    blad_wzgledny = blad_bezwzgledny / abs(math.e)\n",
    "    return blad_bezwzgledny, blad_wzgledny\n",
    "\n",
    "e_star_1 = oblicz_e(6)\n",
    "\n",
    "blad_bezwzgledny_1, blad_wzgledny_1 = oblicz_blad(e_star_1)\n",
    "print(\"dla e1:\")\n",
    "print(\"wartosc przyblizona: \", e_star_1)\n",
    "print(\"blad bezwzgledny: \", blad_bezwzgledny_1)\n",
    "print(\"blad wzgledny: \", blad_wzgledny_1)\n",
    "\n",
    "e_star_2 = oblicz_e(11)\n",
    "\n",
    "blad_bezwzgledny_2, blad_wzgledny_2 = oblicz_blad(e_star_2)\n",
    "print(\"dla e2:\")\n",
    "print(\"wartosc przyblizona: \", e_star_2)\n",
    "print(\"blad bezwzgledny: \", blad_bezwzgledny_2)\n",
    "print(\"blad wzgledny: \", blad_wzgledny_2)\n",
    "\n",
    "e_star_3 = oblicz_e(21)\n",
    "\n",
    "blad_bezwzgledny_3, blad_wzgledny_3 = oblicz_blad(e_star_3)\n",
    "print(\"dla e3:\")\n",
    "print(\"wartosc przyblizona: \", e_star_3)\n",
    "print(\"blad bezwzgledny: \", blad_bezwzgledny_3)\n",
    "print(\"blad wzgledny: \", blad_wzgledny_3)"
   ]
  },
  {
   "cell_type": "markdown",
   "id": "fiscal-momentum",
   "metadata": {},
   "source": [
    "## Zapis zmiennoprzecinkowy"
   ]
  },
  {
   "cell_type": "markdown",
   "id": "final-venezuela",
   "metadata": {},
   "source": [
    "**Uwaga**: Używane tu pojęcie **cecha** ma inne znaczenie, niż poznane być może w szkole – skrótowo: „część całkowita”. Dlatego poniżej dodawane jest inne określenie – „wykładnik”."
   ]
  },
  {
   "cell_type": "code",
   "execution_count": 2,
   "id": "painful-monitoring",
   "metadata": {},
   "outputs": [],
   "source": [
    "import numpy as np\n",
    "import matplotlib.pyplot as plt\n",
    "import sys"
   ]
  },
  {
   "cell_type": "code",
   "execution_count": 3,
   "id": "collectible-survivor",
   "metadata": {
    "scrolled": true
   },
   "outputs": [
    {
     "name": "stdout",
     "output_type": "stream",
     "text": [
      "Machine parameters for float64\n",
      "---------------------------------------------------------------\n",
      "precision =  15   resolution = 1.0000000000000001e-15\n",
      "machep =    -52   eps =        2.2204460492503131e-16\n",
      "negep =     -53   epsneg =     1.1102230246251565e-16\n",
      "minexp =  -1022   tiny =       2.2250738585072014e-308\n",
      "maxexp =   1024   max =        1.7976931348623157e+308\n",
      "nexp =       11   min =        -max\n",
      "smallest_normal = 2.2250738585072014e-308   smallest_subnormal = 4.9406564584124654e-324\n",
      "---------------------------------------------------------------\n",
      "\n"
     ]
    }
   ],
   "source": [
    "print(np.finfo(float))\n",
    "eps = np.finfo(float).eps"
   ]
  },
  {
   "cell_type": "markdown",
   "id": "registered-immigration",
   "metadata": {},
   "source": [
    "***Zadanie 2.***\n",
    "\n",
    "\n",
    "a) Wstaw dowolną wartość do liczby x, np. 0.1. Które liczby mają tę samą mantysę, a które tę samą cechę (wykładnik)? Sprawdź wypisując ich wartości w formacie hex.\n"
   ]
  },
  {
   "cell_type": "markdown",
   "id": "sapphire-tuesday",
   "metadata": {},
   "source": [
    "**Uwaga:** Do odczytania liczby w formacie szesnastkowym możesz wykorzystać funkcję:"
   ]
  },
  {
   "cell_type": "code",
   "execution_count": 5,
   "id": "concrete-webmaster",
   "metadata": {},
   "outputs": [
    {
     "data": {
      "text/plain": [
       "'0x1.4000000000000p+0'"
      ]
     },
     "execution_count": 5,
     "metadata": {},
     "output_type": "execute_result"
    }
   ],
   "source": [
    "1.25.hex()"
   ]
  },
  {
   "cell_type": "code",
   "execution_count": 6,
   "id": "96e3aec4",
   "metadata": {},
   "outputs": [
    {
     "data": {
      "text/plain": [
       "'0x1.3880000000000p+12'"
      ]
     },
     "execution_count": 6,
     "metadata": {},
     "output_type": "execute_result"
    }
   ],
   "source": [
    "5000.0.hex()"
   ]
  },
  {
   "cell_type": "markdown",
   "id": "constant-sphere",
   "metadata": {},
   "source": [
    "lub"
   ]
  },
  {
   "cell_type": "code",
   "execution_count": 7,
   "id": "humanitarian-somerset",
   "metadata": {},
   "outputs": [],
   "source": [
    "import struct\n",
    "def double_to_hex(f):\n",
    "    print(hex(struct.unpack('<Q', struct.pack('<d', f))[0]))"
   ]
  },
  {
   "cell_type": "code",
   "execution_count": 8,
   "id": "regular-possibility",
   "metadata": {
    "scrolled": true
   },
   "outputs": [
    {
     "name": "stdout",
     "output_type": "stream",
     "text": [
      "0x3ff4000000000000\n"
     ]
    }
   ],
   "source": [
    "double_to_hex(1.25)"
   ]
  },
  {
   "cell_type": "markdown",
   "id": "heated-session",
   "metadata": {},
   "source": [
    "Zamianę w drugą stronę można przeprowadzić za pomocą funkcji *int*"
   ]
  },
  {
   "cell_type": "code",
   "execution_count": 9,
   "id": "three-butler",
   "metadata": {},
   "outputs": [
    {
     "data": {
      "text/plain": [
       "1023"
      ]
     },
     "execution_count": 9,
     "metadata": {},
     "output_type": "execute_result"
    }
   ],
   "source": [
    "int('3ff', 16)"
   ]
  },
  {
   "cell_type": "code",
   "execution_count": 23,
   "id": "completed-vault",
   "metadata": {},
   "outputs": [
    {
     "name": "stdout",
     "output_type": "stream",
     "text": [
      "0x1.999999999999ap-4\n",
      "0x1.999999999999ap-3\n"
     ]
    }
   ],
   "source": [
    "print(0.1.hex())\n",
    "print(0.2.hex())\n"
   ]
  },
  {
   "cell_type": "markdown",
   "id": "higher-router",
   "metadata": {},
   "source": [
    "\n",
    "\n",
    "b) Porównaj zapis liczb 0.1, 0.2 i 0.3 w formacie zmiennoprzecinkowym.\n",
    "\n",
    "* Czy można przewidzieć, czy suma 0.1 + 0.2 będzie reprezentowana dokładnie tak samo jak liczba 0.3?\n",
    "* Jaki będzie wynik porównania tej sumy z liczbą 0.3 i konsekwencje użycia warunku równościowego / nierównościowego w pętli?\n",
    "\n"
   ]
  },
  {
   "cell_type": "code",
   "execution_count": 5,
   "id": "limiting-paradise",
   "metadata": {},
   "outputs": [
    {
     "name": "stdout",
     "output_type": "stream",
     "text": [
      "0x1.999999999999ap-4\n",
      "0x1.999999999999ap-3\n",
      "0x1.3333333333333p-2\n",
      "0x1.3333333333334p-2\n",
      "False\n",
      "#######################\n",
      "0.30000000000000004\n",
      "nie\n"
     ]
    }
   ],
   "source": [
    "print(0.1.hex())\n",
    "print(0.2.hex())\n",
    "print(0.3.hex())\n",
    "print((0.1+0.2).hex())\n",
    "print(0.3.hex() == (0.1+0.2).hex())\n",
    "\n",
    "# lub \n",
    "print(\"#######################\")\n",
    "x = 0.1\n",
    "y = 0.2\n",
    "z = x + y\n",
    "print(z)\n",
    "if(z==0.3):\n",
    "    print('tak')\n",
    "else:\n",
    "    print(\"nie\")"
   ]
  },
  {
   "cell_type": "markdown",
   "id": "brutal-windows",
   "metadata": {},
   "source": [
    "c) Przyjmijmy, że „skrótowe” określenie *liczba dokładnie reprezentowana* oznacza liczbę, która jest reprezentowana w formacie zmiennoprzecinkowym dokładnie, tzn. bez konieczności zaokrąglania.\n",
    "* Ile jest liczb dokładnie reprezentowanych w przedziale $[1, 2)$?\n",
    "* Zaobserwuj (z pomocą formatu hex) jakie wartości mają bity w polu mantysy w przypadku liczby 1.0.\n",
    "* Jaką liczbę trzeba dodać do 1.0, aby tylko na najmłodszej pozycji pola mantysy pojawiło się 1?\n",
    "* Czy wyżej otrzymana suma jest najmniejszą liczbą dokładnie reprezentowana, spośród liczb większych od 1?\n",
    "* Jak przypuszczasz, jakie wartości będą miały poszczególne bity mantysy w przypadku największej liczby dokładnie reprezentowanej, której cecha (wykładnik) jest równy 0? Sprawdź, czy tak jest rzeczywiście – wpisując wartość tej liczby (jaka to jest wartość?).\n"
   ]
  },
  {
   "cell_type": "code",
   "execution_count": 30,
   "id": "operating-cotton",
   "metadata": {},
   "outputs": [
    {
     "data": {
      "text/plain": [
       "'0x1.0000000000000p+1'"
      ]
     },
     "execution_count": 30,
     "metadata": {},
     "output_type": "execute_result"
    }
   ],
   "source": [
    "1.0.hex()\n",
    "(1.0+1.0).hex()"
   ]
  },
  {
   "cell_type": "code",
   "execution_count": 9,
   "id": "confirmed-stream",
   "metadata": {},
   "outputs": [
    {
     "name": "stdout",
     "output_type": "stream",
     "text": [
      "0x0.0p+0\n",
      "0x1.0000000000000p+0\n",
      "0x1.0000000000000p+1\n",
      "0x1.4000000000000p+2\n",
      "-0x1.0000000000000p+0\n",
      "-0x1.8000000000000p+1\n"
     ]
    }
   ],
   "source": [
    "print(0.0.hex())\n",
    "print(1.0.hex())\n",
    "print(2.0.hex())\n",
    "print(5.0.hex())\n",
    "print((-1.0).hex())\n",
    "print((-3.0).hex())"
   ]
  },
  {
   "cell_type": "markdown",
   "id": "toxic-sixth",
   "metadata": {},
   "source": [
    "***Zadanie 3.***\n",
    "\n",
    "Spójrz na poniższe zjawiska, zastanów się nad ich przyczynami."
   ]
  },
  {
   "cell_type": "markdown",
   "id": "further-freedom",
   "metadata": {},
   "source": [
    "***Problem skali***"
   ]
  },
  {
   "cell_type": "markdown",
   "id": "removable-victory",
   "metadata": {},
   "source": [
    "Jaki wynika da poniższy kod:"
   ]
  },
  {
   "cell_type": "code",
   "execution_count": 5,
   "id": "adjusted-delivery",
   "metadata": {},
   "outputs": [
    {
     "name": "stdout",
     "output_type": "stream",
     "text": [
      "1.00000000000000000\n",
      "1.0\n"
     ]
    }
   ],
   "source": [
    "a = 1.0\n",
    "b = 0.0000000000000000000000001\n",
    "c = a + b\n",
    "print(f'{c:.17f}')"
   ]
  },
  {
   "cell_type": "markdown",
   "id": "secret-raise",
   "metadata": {},
   "source": [
    "***Problem reprezentacji w zapisie binarnym*** "
   ]
  },
  {
   "cell_type": "code",
   "execution_count": 10,
   "id": "f6596f1a",
   "metadata": {},
   "outputs": [
    {
     "name": "stdout",
     "output_type": "stream",
     "text": [
      "False\n"
     ]
    }
   ],
   "source": [
    "if 0.1+0.2==0.3:\n",
    "    print(\"True\")\n",
    "else:\n",
    "    print(\"False\")"
   ]
  },
  {
   "cell_type": "code",
   "execution_count": 11,
   "id": "cross-ranch",
   "metadata": {},
   "outputs": [
    {
     "name": "stdout",
     "output_type": "stream",
     "text": [
      "9.999999999999980\n"
     ]
    }
   ],
   "source": [
    "suma = 0\n",
    "for i in range(0,100):\n",
    "    suma += 0.1\n",
    "print(f'{suma:.15f}')"
   ]
  },
  {
   "cell_type": "markdown",
   "id": "56086598",
   "metadata": {},
   "source": [
    "**Zadanie 4.**"
   ]
  },
  {
   "cell_type": "markdown",
   "id": "35804ff5",
   "metadata": {},
   "source": [
    "Niech:\n",
    "* $a=0.3$\n",
    "* $b=10^{-13}$\n",
    "* $c=a-b$\n",
    "* $d=a-c$\n",
    "\n",
    "Czy $b$ i $d$ są sobie równe w sensie analitycznym? Co z przypadkiem numerycznym? Zdefiniuj odpowiednie zmienne i porównaj wyniki. Porównaj szesnastkowe i dziesietne reprezentacje zmiennych `b` i `d`. Ile cyfr w reprezentacji `d` możemy uznać za wiarygodne?"
   ]
  },
  {
   "cell_type": "code",
   "execution_count": 6,
   "id": "47593036",
   "metadata": {},
   "outputs": [
    {
     "name": "stdout",
     "output_type": "stream",
     "text": [
      "1e-13\n",
      "9.997558336749535e-14\n",
      "0x1.3333333332c2ap-2\n",
      "0x1.3333333332c2ap-2\n",
      "0x1.c240000000000p-44\n",
      "0x1.c240000000000p-44\n"
     ]
    }
   ],
   "source": [
    "a = 0.3\n",
    "b = 10**(-13)\n",
    "c = a-b\n",
    "d = a-c\n",
    "\n",
    "c2 = 0.3 -(10**(-13))\n",
    "d2 = 0.3 - (0.3 -(10**(-13)))\n",
    "# print(a)\n",
    "print(b)\n",
    "# print(c)\n",
    "print(d)\n",
    "# print(a.hex())\n",
    "print(c.hex())\n",
    "print(c2.hex())\n",
    "print(d2.hex())\n",
    "print(d.hex())\n",
    "# print(d.hex())\n"
   ]
  },
  {
   "cell_type": "markdown",
   "id": "57bcce2e",
   "metadata": {},
   "source": [
    "**Zadanie 5.**"
   ]
  },
  {
   "cell_type": "markdown",
   "id": "fb5b5667",
   "metadata": {},
   "source": [
    "Rozważmy macierz kwadratową:\n",
    "$$ A=\\left[\\begin{array}{ccc}\n",
    "\\sqrt{2} & \\frac{1}{7}\\\\\n",
    "\\pi\\sqrt{2} &\\frac{\\pi}{7}\\\\\n",
    "\\end{array}\\right]\n",
    "$$\n",
    "* Czy jest to macierz osobliwa? Jak to sprawdzić?\n",
    "* Oblicz wyznacznik tej macierzy w sposób analityczny i numeryczny (`np.linalg.det`). Czy otrzymałeś te same wartości? Czy wyniki obliczeń numerycznych prowadzą do poprawnej odpowiedzi na pierwsze pytanie? Jakie może to mieć skutki?"
   ]
  },
  {
   "cell_type": "code",
   "execution_count": 4,
   "id": "7b46d638",
   "metadata": {},
   "outputs": [
    {
     "name": "stdout",
     "output_type": "stream",
     "text": [
      "[[1.41421356 0.14285714]\n",
      " [4.44288294 0.44879895]]\n",
      "0.0\n",
      "True\n"
     ]
    }
   ],
   "source": [
    "import numpy as np\n",
    "import math\n",
    "m = np.array(([math.sqrt(2), (1/7)],\n",
    "[(math.pi)*(math.sqrt(2)), (math.pi/7)]))\n",
    "print(m)\n",
    "#oblizenie analityczna\n",
    "det_A = (math.sqrt(2) * (math.pi/7)) - ((math.pi * math.sqrt(2)) * 1/7)\n",
    "print(det_A)\n",
    "#obliczenie numeryczna\n",
    "np.linalg.det(m)\n",
    "\n",
    "if det_A == np.linalg.det(m):\n",
    "    print(True)\n",
    "else:\n",
    "    print(False)"
   ]
  },
  {
   "cell_type": "markdown",
   "id": "4db8468c",
   "metadata": {},
   "source": [
    "**Zadanie 6.**"
   ]
  },
  {
   "cell_type": "markdown",
   "id": "e1f226f5",
   "metadata": {},
   "source": [
    "Jedną z metod rozwiązywania równań nieliniowych jest metoda Newtona. Metoda ta powtarza obliczenia, aż spełniony nie będzie warunek stopu. Jeżeli spełnione są odpowiednie założenia to metoda ta zbiega do rozwiązania. Załóżmy, że warunki są spełnione i rozważmy funkcję $f(x)=cos(x)-x$. Poniżej znajdziesz implementację metody Newtona, w której brakuje warunku stopu. Spróbuj go uzupełnić. Warunek powinien być spełniony w momencie, w którym chcemy zakończyć działanie procedury.\n",
    "\n",
    "Z matematycznego punktu widzenia znajdujemy się w zerze, jeżeli kolejne przybliżenia uzyskane z metody Newtona nie różnią się od siebie (np. dwa ostatnie). Zaimplementuj taki warunek i sprawdź, czy program zatrzyma się. Czy taki warunek stopu jest bezpieczny i można go stosować uniwersalnie? Jak można go poprawić?"
   ]
  },
  {
   "cell_type": "code",
   "execution_count": null,
   "id": "26eb839f",
   "metadata": {},
   "outputs": [],
   "source": [
    "def newton(f, f_prim, x_0):\n",
    "    x_prev = x_0\n",
    "    while True:\n",
    "        x_n=x_prev-(f(x_prev)/f_prim(x_prev))\n",
    "        print(f'x_0={x_n}')\n",
    "        double_to_hex(x_n)\n",
    "        \n",
    "        if True: # Zastąp True swoim warunkiem stopu\n",
    "            return x_n\n",
    "        else:\n",
    "            x_prev=x_n"
   ]
  },
  {
   "cell_type": "code",
   "execution_count": null,
   "id": "8c8e359e",
   "metadata": {},
   "outputs": [],
   "source": [
    "def f(x):\n",
    "    return # Uzupełnij definicję funkcji \n",
    "\n",
    "def f_prim(x):\n",
    "    return # Uzupełnij definicję pochodnej"
   ]
  },
  {
   "cell_type": "code",
   "execution_count": null,
   "id": "03aa3df9",
   "metadata": {},
   "outputs": [],
   "source": [
    "def newton(f, f_prim, x_0, tol=1e-8, max_iter=100):\n",
    "    x_prev = x_0\n",
    "    for i in range(max_iter):\n",
    "        x_n = x_prev - (f(x_prev) / f_prim(x_prev))\n",
    "        print(f'Iteracja {i + 1}: x = {x_n}')\n",
    "\n",
    "        if abs(x_n - x_prev) < tol:\n",
    "            return x_n\n",
    "        else:\n",
    "            x_prev = x_n\n",
    "\n",
    "    return x_n\n",
    "\n",
    "def f(x):\n",
    "    return math.cos(x) - x\n",
    "\n",
    "def f_prim(x):\n",
    "    return -math.sin(x) - 1 "
   ]
  },
  {
   "cell_type": "markdown",
   "id": "republican-insider",
   "metadata": {},
   "source": [
    "**Zadanie domowe**  \n",
    "\n",
    "Dany jest ciąg:  \n",
    "  \n",
    "$G(p)=\\cfrac{1}{p}\\left[10^{p}\\left(1+p\\pi^{*} \\cdot 10^{-p}\\right)-10^{p}\\right],\\ p=1,2,3,\\dots,n $,\n",
    "w którym $\\pi^{*}$ jest przybliżeniem liczby $\\pi$ z dokładnością do 15 miejsc po przecinku.\n",
    "  \n",
    "Stwórz funkcję, która umożliwi obliczenie $n$ pierwszych wyrazów tego ciągu i zwróci je w postaci wektora (do przybliżenia wartości $\\pi$ możesz wykorzystać funkcję *[round](https://numpy.org/doc/stable/reference/generated/numpy.round_.html)*). Oblicz błąd bezwzględny i błąd względny otrzymanych wyników. Przedstaw rezultaty na wykresie w zależności od $n$. Wartości błędów przedstaw w skali logarytmicznej (funkcja *plt.semilogy()*).\n",
    "\n",
    "Przeanalizuj rozwiązanie i odpowiedz na następujące pytania:  \n",
    "* Czy w obliczeniach analitycznych wartość $G(p)$ zależy od $p$?\n",
    "* Jak zmienia się błąd w zależności od $n$? O czym to świadczy?\n",
    "* Z jakim/jakimi rodzajami błędu mamy do czynienie?\n"
   ]
  },
  {
   "cell_type": "code",
   "execution_count": 1,
   "id": "regular-malpractice",
   "metadata": {},
   "outputs": [
    {
     "data": {
      "image/png": "[encoded data removed]",
      "text/plain": [
       "<Figure size 1200x600 with 2 Axes>"
      ]
     },
     "metadata": {},
     "output_type": "display_data"
    }
   ],
   "source": [
    "import numpy as np\n",
    "import matplotlib.pyplot as plt\n",
    "\n",
    "def calculate_G_values(n):\n",
    "    pi_approx = round(np.pi, 15)\n",
    "    G_values = [1/p * (10**p * (1 + p * pi_approx * 10**-p) - 10**p) for p in range(1, n+1)]\n",
    "    return np.array(G_values)\n",
    "\n",
    "def calculate_errors(G_values, true_value):\n",
    "    absolute_errors = np.abs(G_values - true_value)\n",
    "    relative_errors = np.abs(G_values - true_value) / true_value\n",
    "    return absolute_errors, relative_errors\n",
    "\n",
    "# Parameters\n",
    "n = 100\n",
    "true_value = round(np.pi, 15)\n",
    "\n",
    "# Calculations\n",
    "G_values = calculate_G_values(n)\n",
    "absolute_errors, relative_errors = calculate_errors(G_values, true_value)\n",
    "\n",
    "# Plotting\n",
    "plt.figure(figsize=(12, 6))\n",
    "\n",
    "plt.subplot(1, 2, 1)\n",
    "plt.semilogy(range(1, n+1), absolute_errors, 'b-', label='Błąd bezwzględny')\n",
    "plt.xlabel('p')\n",
    "plt.ylabel('Błąd bezwzględny')\n",
    "plt.title('Błąd bezwzględny w zależności od p')\n",
    "plt.legend()\n",
    "\n",
    "plt.subplot(1, 2, 2)\n",
    "plt.semilogy(range(1, n+1), relative_errors, 'r-', label='Błąd względny')\n",
    "plt.xlabel('p')\n",
    "plt.ylabel('Błąd względny')\n",
    "plt.title('Błąd względny w zależności od p')\n",
    "plt.legend()\n",
    "\n",
    "plt.tight_layout()\n",
    "plt.show()\n"
   ]
  }
 ],
 "metadata": {
  "kernelspec": {
   "display_name": "Python 3.10.2 64-bit",
   "language": "python",
   "name": "python3"
  },
  "language_info": {
   "codemirror_mode": {
    "name": "ipython",
    "version": 3
   },
   "file_extension": ".py",
   "mimetype": "text/x-python",
   "name": "python",
   "nbconvert_exporter": "python",
   "pygments_lexer": "ipython3",
   "version": "3.10.2"
  },
  "vscode": {
   "interpreter": {
    "hash": "c7d95adfb569919125bf17e142636d5e787320dfe2221022622e2b3afdc2b49e"
   }
  }
 },
 "nbformat": 4,
 "nbformat_minor": 5
}
