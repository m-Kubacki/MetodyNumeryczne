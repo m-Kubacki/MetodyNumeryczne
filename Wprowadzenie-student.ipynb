{
 "cells": [
  {
   "cell_type": "markdown",
   "id": "afraid-physiology",
   "metadata": {},
   "source": [
    "# Wprowadzenie do obliczeń w Pythonie"
   ]
  },
  {
   "cell_type": "markdown",
   "id": "unique-attack",
   "metadata": {},
   "source": [
    "## Ćwiczenia\n",
    "Ćwiczenia należy wykonywać w środowisku Python 3. Instrukcję będą miały formę notatników Jupyter Notebook, ale same polecenia można wykonywać w dowolnym IDE (osoby znające Matlaba mogą skorzystać z edytora [Spyder](https://www.spyder-ide.org), który posiada układ podobny do produktu firmy Mathworks).\n",
    "### Python vs Matlab\n",
    "W kontekście obliczeń numerycznych oba środowiska są do siebie podobne. W 90% przypadków nazwy funkcji, kolejność argumentów i sposób rozwiązania danego problemu będą takie same w obu środowiskach. Istnieje jednak kilka różnic, o których należy pamiętać:\n",
    "* Matlab jest narzędziem stworzonym specjalnie do obliczeń, Python to język programowania ogólnego przeznaczenia.\n",
    "* W Pythonie do wykonywania obliczeń i wizualizacji wykorzystuje się biblioteki takie jak NumPy, SciPy, SymPy, Matplotlib, Seaborn itd. W Matlabie większość funkcjonalności jest dostępna \"od ręki\" (chociaż istnieją też płatne dodatki).\n",
    "* W Matlabie tablice/macierze są indeksowane od **1** (tak jak np. w języku Pascal), w Pythonie pierwszy element kolekcji znajduje się na pozycji **0** (tak jak w większości języków programowania ogólnego przeznaczenia, np. C, C++, Java, Kotlin, Swift).\n",
    "* Sposób mnożenia macierzy (temat zostanie poruszony na jednych z kolejnych zajęć).\n",
    "Ciekawy zestaw przykładów pokazujący różnice pomiędzy Pythonem i Matlabem (a także Julią) znajdziecie Państwo na [tutaj](https://cheatsheets.quantecon.org)."
   ]
  },
  {
   "cell_type": "markdown",
   "id": "saved-choice",
   "metadata": {},
   "source": [
    "# Obliczenia numeryczne w Pythonie"
   ]
  },
  {
   "cell_type": "markdown",
   "id": "local-notice",
   "metadata": {},
   "source": [
    "Podstawowym pakietem do obliczeń naukowych w Pythonie jest *numpy*. Zwyczajowo importuje się go w następujący sposób:"
   ]
  },
  {
   "cell_type": "code",
   "execution_count": 2,
   "id": "occasional-firewall",
   "metadata": {},
   "outputs": [],
   "source": [
    "import numpy as np"
   ]
  },
  {
   "cell_type": "markdown",
   "id": "illegal-catalog",
   "metadata": {},
   "source": [
    "**Uwaga.** Niektóre funkcje (np. *sqrt*) występują w więcej niż jednym pakiecie (np. *sqrt* znajduje się zarówno w *math*, jak i w *numpy*). W takich przypadkach zazwyczaj lepiej jest zastosować implementację z *numpy* (o ile jest dostępna)."
   ]
  },
  {
   "cell_type": "code",
   "execution_count": 3,
   "id": "global-explorer",
   "metadata": {},
   "outputs": [
    {
     "name": "stdout",
     "output_type": "stream",
     "text": [
      "1.4142135623730951\n",
      "1.4142135623730951\n"
     ]
    }
   ],
   "source": [
    "import math\n",
    "print(math.sqrt(2))\n",
    "print((np.sqrt(2)))"
   ]
  },
  {
   "cell_type": "markdown",
   "id": "coated-rabbit",
   "metadata": {},
   "source": [
    "## Typy proste"
   ]
  },
  {
   "cell_type": "markdown",
   "id": "italic-aside",
   "metadata": {},
   "source": [
    "***Zadanie 1.***   \n",
    "Oblicz wartości następujących formuł:\n",
    "  \n",
    "$k = 1240\\sqrt{7}$  \n",
    "$m = 2048$  \n",
    "$l = 2j$  \n",
    "$d = k+2m$  \n",
    "$c = d+l$  \n",
    "  \n",
    "Po wykonaniu obliczeń sprawdź typy danych utworzonych zmiennych (funkcja *type*)"
   ]
  },
  {
   "cell_type": "code",
   "execution_count": 3,
   "id": "healthy-uganda",
   "metadata": {},
   "outputs": [
    {
     "name": "stdout",
     "output_type": "stream",
     "text": [
      "3280.7316257200923\n",
      "2048\n",
      "2j\n",
      "7376.731625720093\n",
      "(7376.731625720093+2j)\n"
     ]
    }
   ],
   "source": [
    "k = 1240*(math.sqrt(7))\n",
    "m = 2048\n",
    "l = 2j\n",
    "d = k + (2*m)\n",
    "c = d +l\n",
    "print(k)\n",
    "print(m)\n",
    "print(l)\n",
    "print(d)\n",
    "print(c)"
   ]
  },
  {
   "cell_type": "code",
   "execution_count": 11,
   "id": "infinite-galaxy",
   "metadata": {},
   "outputs": [
    {
     "data": {
      "text/plain": [
       "complex"
      ]
     },
     "execution_count": 11,
     "metadata": {},
     "output_type": "execute_result"
    }
   ],
   "source": [
    "type(k)\n",
    "type(m)\n",
    "type(l)\n",
    "type(d)\n",
    "type(c)"
   ]
  },
  {
   "cell_type": "markdown",
   "id": "super-shannon",
   "metadata": {},
   "source": [
    "## Formatowanie wyjścia\n",
    "\n",
    "W pracy z liczbami warto wykorzystać formatowanie stringów.\n"
   ]
  },
  {
   "cell_type": "code",
   "execution_count": 20,
   "id": "intelligent-czech",
   "metadata": {},
   "outputs": [
    {
     "data": {
      "text/plain": [
       "\"a = hello, typ: <class 'str'>\""
      ]
     },
     "execution_count": 20,
     "metadata": {},
     "output_type": "execute_result"
    }
   ],
   "source": [
    "a = \"hello\"\n",
    "'a = {a}, typ: {t}'.format(a = a, t = type(a))\n"
   ]
  },
  {
   "cell_type": "markdown",
   "id": "portuguese-cotton",
   "metadata": {},
   "source": [
    "W Pythonie 3.6+ dostępny jest również nowy format zwany *f-String*, który pozwala umieszczać wyrażenia do obliczenia bezpośrednio w łańcuchu."
   ]
  },
  {
   "cell_type": "code",
   "execution_count": 17,
   "id": "stunning-timing",
   "metadata": {},
   "outputs": [
    {
     "data": {
      "text/plain": [
       "\"a = hello, typ: <class 'str'>, 2 + 2 = 4\""
      ]
     },
     "execution_count": 17,
     "metadata": {},
     "output_type": "execute_result"
    }
   ],
   "source": [
    "f'a = {a}, typ: {type(a)}, 2 + 2 = {2+2}'"
   ]
  },
  {
   "cell_type": "markdown",
   "id": "deluxe-garage",
   "metadata": {},
   "source": [
    "Możliwe jest również sterowanie formatowaniem wartości [liczbowych](https://docs.python.org/3/tutorial/inputoutput.html):"
   ]
  },
  {
   "cell_type": "code",
   "execution_count": 18,
   "id": "accurate-florida",
   "metadata": {},
   "outputs": [
    {
     "name": "stdout",
     "output_type": "stream",
     "text": [
      "a = hello\n"
     ]
    },
    {
     "ename": "ValueError",
     "evalue": "Unknown format code 'f' for object of type 'str'",
     "output_type": "error",
     "traceback": [
      "\u001b[1;31m---------------------------------------------------------------------------\u001b[0m",
      "\u001b[1;31mValueError\u001b[0m                                Traceback (most recent call last)",
      "Cell \u001b[1;32mIn [18], line 3\u001b[0m\n\u001b[0;32m      1\u001b[0m \u001b[38;5;66;03m# Dla typu float\u001b[39;00m\n\u001b[0;32m      2\u001b[0m \u001b[38;5;28mprint\u001b[39m(\u001b[38;5;124mf\u001b[39m\u001b[38;5;124m'\u001b[39m\u001b[38;5;124ma = \u001b[39m\u001b[38;5;132;01m{\u001b[39;00ma\u001b[38;5;132;01m}\u001b[39;00m\u001b[38;5;124m'\u001b[39m)\n\u001b[1;32m----> 3\u001b[0m \u001b[38;5;28mprint\u001b[39m(\u001b[38;5;124mf\u001b[39m\u001b[38;5;124m'\u001b[39m\u001b[38;5;124ma = \u001b[39m\u001b[38;5;132;01m{\u001b[39;00ma\u001b[38;5;132;01m:\u001b[39;00m\u001b[38;5;124m.3f\u001b[39m\u001b[38;5;132;01m}\u001b[39;00m\u001b[38;5;124m'\u001b[39m)\n\u001b[0;32m      4\u001b[0m \u001b[38;5;28mprint\u001b[39m(\u001b[38;5;124mf\u001b[39m\u001b[38;5;124m'\u001b[39m\u001b[38;5;124ma = \u001b[39m\u001b[38;5;132;01m{\u001b[39;00ma\u001b[38;5;132;01m:\u001b[39;00m\u001b[38;5;124m.50f\u001b[39m\u001b[38;5;132;01m}\u001b[39;00m\u001b[38;5;124m'\u001b[39m)\n\u001b[0;32m      6\u001b[0m \u001b[38;5;66;03m#Dla typu int\u001b[39;00m\n",
      "\u001b[1;31mValueError\u001b[0m: Unknown format code 'f' for object of type 'str'"
     ]
    }
   ],
   "source": [
    "# Dla typu float\n",
    "print(f'a = {a}')\n",
    "print(f'a = {a:.3f}')\n",
    "print(f'a = {a:.50f}')\n",
    "\n",
    "#Dla typu int\n",
    "print()\n",
    "print(f'b = {b}')\n",
    "print(f'b = {b:10d}')\n",
    "print(f'b = {b:20d}')"
   ]
  },
  {
   "cell_type": "markdown",
   "id": "international-turning",
   "metadata": {},
   "source": [
    "## Typy tablicowe"
   ]
  },
  {
   "cell_type": "markdown",
   "id": "realistic-nebraska",
   "metadata": {},
   "source": [
    "W bibliotece standardowej Pythona brakuje typu tablicowego (jest jedynie lista), który przydaje się podczas pracy z danymi liczbowymi. Lukę tę wypełnia typ tablicowy z *numpy*. "
   ]
  },
  {
   "cell_type": "code",
   "execution_count": 21,
   "id": "terminal-participant",
   "metadata": {},
   "outputs": [
    {
     "name": "stdout",
     "output_type": "stream",
     "text": [
      "[1 2 3], typ: <class 'numpy.ndarray'>\n",
      "[[1. 2.]\n",
      " [3. 4.]], typ: <class 'numpy.ndarray'>\n"
     ]
    }
   ],
   "source": [
    "tab = np.array([1,2,3])\n",
    "tab2 = np.array(([1.0,2],[3,4])) # argument w postaci krotki!\n",
    "print(f'{tab}, typ: {type(tab)}')\n",
    "print(f'{tab2}, typ: {type(tab2)}')"
   ]
  },
  {
   "cell_type": "markdown",
   "id": "stuck-committee",
   "metadata": {},
   "source": [
    "Jak widać tablice w *numpy* są obiektami typu *ndarray*. Jest to homogeniczny typ tablicowy, czyli taki, który pozwala przechowywać jedynie dane tego samego typu (w każdej tablicy wszystkie elementy są jednego typu, tak jak np. w C). Dane heterogeniczne można przechowywać np. w strukturze *DataFrame* z biblioteki *Pandas*.\n",
    "Obiekt typu *ndarray* posiada kilka interesujących atrybutów:\n",
    "* *shape* — kształt tablicy, czyli krotka zawierająca liczbę elementów dla każdego wymiaru (osi) tablicy. Wymiary można również sprawdzić za pomocą *np.shape()*.\n",
    "* *size* — sumaryczna liczba elementów.\n",
    "* *ndim* — liczba wymiarów (osi).\n",
    "* *nbytes* — liczba bajtów zajmowana przez obiekt.\n",
    "* *dtype* — typ danych przechowywanych w tablicy. Można go jawnie określić podczas tworzenia tablicy (parametr dtype)\n",
    " "
   ]
  },
  {
   "cell_type": "code",
   "execution_count": 30,
   "id": "smooth-pennsylvania",
   "metadata": {},
   "outputs": [],
   "source": [
    "def printDetails(arr):\n",
    "    print(f'   Tablica {arr}')\n",
    "    print(f'   shape = {arr.shape}')\n",
    "    print(f'   size = {arr.size}')\n",
    "    print(f'   ndim = {arr.ndim}')\n",
    "    print(f'   nbytes = {arr.nbytes}')\n",
    "    print(f'   dtype = {arr.dtype}')\n",
    "    print()"
   ]
  },
  {
   "cell_type": "markdown",
   "id": "fabulous-second",
   "metadata": {},
   "source": [
    "***Uwaga!*** W *numpy* dostępny jest też typ *matrix*. Jest on obecnie uznany za ,,przestarzały'' (ang. *deprecated*) i nie należy z niego korzystać (nawet w zastosowaniach numerycznych, co sugerowałaby jego nazwa)."
   ]
  },
  {
   "cell_type": "code",
   "execution_count": 31,
   "id": "constitutional-witch",
   "metadata": {},
   "outputs": [
    {
     "name": "stdout",
     "output_type": "stream",
     "text": [
      "   Tablica [1 2 3]\n",
      "   shape = (3,)\n",
      "   size = 3\n",
      "   ndim = 1\n",
      "   nbytes = 12\n",
      "   dtype = int32\n",
      "   Tablica arr\n"
     ]
    },
    {
     "ename": "AttributeError",
     "evalue": "'str' object has no attribute 'shape'",
     "output_type": "error",
     "traceback": [
      "\u001b[1;31m---------------------------------------------------------------------------\u001b[0m",
      "\u001b[1;31mAttributeError\u001b[0m                            Traceback (most recent call last)",
      "Cell \u001b[1;32mIn [31], line 1\u001b[0m\n\u001b[1;32m----> 1\u001b[0m \u001b[43mprintDetails\u001b[49m\u001b[43m(\u001b[49m\u001b[43mtab\u001b[49m\u001b[43m)\u001b[49m \u001b[38;5;66;03m# Uwaga na shape!\u001b[39;00m\n\u001b[0;32m      2\u001b[0m printDetails(tab2)\n",
      "Cell \u001b[1;32mIn [30], line 8\u001b[0m, in \u001b[0;36mprintDetails\u001b[1;34m(arr)\u001b[0m\n\u001b[0;32m      6\u001b[0m \u001b[38;5;28mprint\u001b[39m(\u001b[38;5;124mf\u001b[39m\u001b[38;5;124m'\u001b[39m\u001b[38;5;124m   nbytes = \u001b[39m\u001b[38;5;132;01m{\u001b[39;00marr\u001b[38;5;241m.\u001b[39mnbytes\u001b[38;5;132;01m}\u001b[39;00m\u001b[38;5;124m'\u001b[39m)\n\u001b[0;32m      7\u001b[0m \u001b[38;5;28mprint\u001b[39m(\u001b[38;5;124mf\u001b[39m\u001b[38;5;124m'\u001b[39m\u001b[38;5;124m   dtype = \u001b[39m\u001b[38;5;132;01m{\u001b[39;00marr\u001b[38;5;241m.\u001b[39mdtype\u001b[38;5;132;01m}\u001b[39;00m\u001b[38;5;124m'\u001b[39m)\n\u001b[1;32m----> 8\u001b[0m \u001b[38;5;28mprint\u001b[39m(\u001b[43mprintDetails\u001b[49m\u001b[43m(\u001b[49m\u001b[38;5;124;43m'\u001b[39;49m\u001b[38;5;124;43marr\u001b[39;49m\u001b[38;5;124;43m'\u001b[39;49m\u001b[43m)\u001b[49m)\n",
      "Cell \u001b[1;32mIn [30], line 3\u001b[0m, in \u001b[0;36mprintDetails\u001b[1;34m(arr)\u001b[0m\n\u001b[0;32m      1\u001b[0m \u001b[38;5;28;01mdef\u001b[39;00m \u001b[38;5;21mprintDetails\u001b[39m(arr):\n\u001b[0;32m      2\u001b[0m     \u001b[38;5;28mprint\u001b[39m(\u001b[38;5;124mf\u001b[39m\u001b[38;5;124m'\u001b[39m\u001b[38;5;124m   Tablica \u001b[39m\u001b[38;5;132;01m{\u001b[39;00marr\u001b[38;5;132;01m}\u001b[39;00m\u001b[38;5;124m'\u001b[39m)\n\u001b[1;32m----> 3\u001b[0m     \u001b[38;5;28mprint\u001b[39m(\u001b[38;5;124mf\u001b[39m\u001b[38;5;124m'\u001b[39m\u001b[38;5;124m   shape = \u001b[39m\u001b[38;5;132;01m{\u001b[39;00m\u001b[43marr\u001b[49m\u001b[38;5;241;43m.\u001b[39;49m\u001b[43mshape\u001b[49m\u001b[38;5;132;01m}\u001b[39;00m\u001b[38;5;124m'\u001b[39m)\n\u001b[0;32m      4\u001b[0m     \u001b[38;5;28mprint\u001b[39m(\u001b[38;5;124mf\u001b[39m\u001b[38;5;124m'\u001b[39m\u001b[38;5;124m   size = \u001b[39m\u001b[38;5;132;01m{\u001b[39;00marr\u001b[38;5;241m.\u001b[39msize\u001b[38;5;132;01m}\u001b[39;00m\u001b[38;5;124m'\u001b[39m)\n\u001b[0;32m      5\u001b[0m     \u001b[38;5;28mprint\u001b[39m(\u001b[38;5;124mf\u001b[39m\u001b[38;5;124m'\u001b[39m\u001b[38;5;124m   ndim = \u001b[39m\u001b[38;5;132;01m{\u001b[39;00marr\u001b[38;5;241m.\u001b[39mndim\u001b[38;5;132;01m}\u001b[39;00m\u001b[38;5;124m'\u001b[39m)\n",
      "\u001b[1;31mAttributeError\u001b[0m: 'str' object has no attribute 'shape'"
     ]
    }
   ],
   "source": [
    "printDetails(tab) # Uwaga na shape!\n",
    "printDetails(tab2)\n",
    "\n"
   ]
  },
  {
   "cell_type": "markdown",
   "id": "floating-plenty",
   "metadata": {},
   "source": [
    "#### Zmiana kształtu\n",
    "Do zmiany kształtu tablic służy funkcja *reshape()*. Nowe wymiary muszą odpowiadać liczbie elementów w tablicy!"
   ]
  },
  {
   "cell_type": "code",
   "execution_count": 32,
   "id": "special-contractor",
   "metadata": {},
   "outputs": [
    {
     "name": "stdout",
     "output_type": "stream",
     "text": [
      "   Tablica [[1 2 3]]\n",
      "   shape = (1, 3)\n",
      "   size = 3\n",
      "   ndim = 2\n",
      "   nbytes = 12\n",
      "   dtype = int32\n",
      "   Tablica arr\n"
     ]
    },
    {
     "ename": "AttributeError",
     "evalue": "'str' object has no attribute 'shape'",
     "output_type": "error",
     "traceback": [
      "\u001b[1;31m---------------------------------------------------------------------------\u001b[0m",
      "\u001b[1;31mAttributeError\u001b[0m                            Traceback (most recent call last)",
      "Cell \u001b[1;32mIn [32], line 2\u001b[0m\n\u001b[0;32m      1\u001b[0m tab3 \u001b[38;5;241m=\u001b[39m tab\u001b[38;5;241m.\u001b[39mreshape(\u001b[38;5;241m1\u001b[39m,\u001b[38;5;241m3\u001b[39m)\n\u001b[1;32m----> 2\u001b[0m \u001b[43mprintDetails\u001b[49m\u001b[43m(\u001b[49m\u001b[43mtab3\u001b[49m\u001b[43m)\u001b[49m\n\u001b[0;32m      4\u001b[0m tab4 \u001b[38;5;241m=\u001b[39m tab\u001b[38;5;241m.\u001b[39mreshape(\u001b[38;5;241m10\u001b[39m,\u001b[38;5;241m3\u001b[39m)\n",
      "Cell \u001b[1;32mIn [30], line 8\u001b[0m, in \u001b[0;36mprintDetails\u001b[1;34m(arr)\u001b[0m\n\u001b[0;32m      6\u001b[0m \u001b[38;5;28mprint\u001b[39m(\u001b[38;5;124mf\u001b[39m\u001b[38;5;124m'\u001b[39m\u001b[38;5;124m   nbytes = \u001b[39m\u001b[38;5;132;01m{\u001b[39;00marr\u001b[38;5;241m.\u001b[39mnbytes\u001b[38;5;132;01m}\u001b[39;00m\u001b[38;5;124m'\u001b[39m)\n\u001b[0;32m      7\u001b[0m \u001b[38;5;28mprint\u001b[39m(\u001b[38;5;124mf\u001b[39m\u001b[38;5;124m'\u001b[39m\u001b[38;5;124m   dtype = \u001b[39m\u001b[38;5;132;01m{\u001b[39;00marr\u001b[38;5;241m.\u001b[39mdtype\u001b[38;5;132;01m}\u001b[39;00m\u001b[38;5;124m'\u001b[39m)\n\u001b[1;32m----> 8\u001b[0m \u001b[38;5;28mprint\u001b[39m(\u001b[43mprintDetails\u001b[49m\u001b[43m(\u001b[49m\u001b[38;5;124;43m'\u001b[39;49m\u001b[38;5;124;43marr\u001b[39;49m\u001b[38;5;124;43m'\u001b[39;49m\u001b[43m)\u001b[49m)\n",
      "Cell \u001b[1;32mIn [30], line 3\u001b[0m, in \u001b[0;36mprintDetails\u001b[1;34m(arr)\u001b[0m\n\u001b[0;32m      1\u001b[0m \u001b[38;5;28;01mdef\u001b[39;00m \u001b[38;5;21mprintDetails\u001b[39m(arr):\n\u001b[0;32m      2\u001b[0m     \u001b[38;5;28mprint\u001b[39m(\u001b[38;5;124mf\u001b[39m\u001b[38;5;124m'\u001b[39m\u001b[38;5;124m   Tablica \u001b[39m\u001b[38;5;132;01m{\u001b[39;00marr\u001b[38;5;132;01m}\u001b[39;00m\u001b[38;5;124m'\u001b[39m)\n\u001b[1;32m----> 3\u001b[0m     \u001b[38;5;28mprint\u001b[39m(\u001b[38;5;124mf\u001b[39m\u001b[38;5;124m'\u001b[39m\u001b[38;5;124m   shape = \u001b[39m\u001b[38;5;132;01m{\u001b[39;00m\u001b[43marr\u001b[49m\u001b[38;5;241;43m.\u001b[39;49m\u001b[43mshape\u001b[49m\u001b[38;5;132;01m}\u001b[39;00m\u001b[38;5;124m'\u001b[39m)\n\u001b[0;32m      4\u001b[0m     \u001b[38;5;28mprint\u001b[39m(\u001b[38;5;124mf\u001b[39m\u001b[38;5;124m'\u001b[39m\u001b[38;5;124m   size = \u001b[39m\u001b[38;5;132;01m{\u001b[39;00marr\u001b[38;5;241m.\u001b[39msize\u001b[38;5;132;01m}\u001b[39;00m\u001b[38;5;124m'\u001b[39m)\n\u001b[0;32m      5\u001b[0m     \u001b[38;5;28mprint\u001b[39m(\u001b[38;5;124mf\u001b[39m\u001b[38;5;124m'\u001b[39m\u001b[38;5;124m   ndim = \u001b[39m\u001b[38;5;132;01m{\u001b[39;00marr\u001b[38;5;241m.\u001b[39mndim\u001b[38;5;132;01m}\u001b[39;00m\u001b[38;5;124m'\u001b[39m)\n",
      "\u001b[1;31mAttributeError\u001b[0m: 'str' object has no attribute 'shape'"
     ]
    }
   ],
   "source": [
    "tab3 = tab.reshape(1,3)\n",
    "printDetails(tab3)\n",
    "\n",
    "tab4 = tab.reshape(10,3)\n",
    "\n"
   ]
  },
  {
   "cell_type": "markdown",
   "id": "documented-amendment",
   "metadata": {},
   "source": [
    "#### Tworzenie tablic"
   ]
  },
  {
   "cell_type": "markdown",
   "id": "confident-purpose",
   "metadata": {},
   "source": [
    "Poza metodą *array*, tablice można utworzyć również z pomocą wielu innych [funkcji](https://numpy.org/doc/stable/reference/routines.array-creation.html#routines-array-creation) m.in.:\n",
    "* *np.zeros()* — tworzy tablicę o zadanym rozmiarze wypełnioną zerami.\n",
    "* *np.ones()* — tworzy tablicę o zadanym rozmiarze wypełnioną jedynkami.\n",
    "* *np.identity()* — tworzy macierz identycznościową o zadanym rozmiarze.\n",
    "* *np.eye()* — tworzy tablicę o zadanym rozmiarze z jedynkami na przekątnej.\n",
    "* **np.linspace()** — tworzy tablicę z równomiernie rozmieszczonymi wartościami znajdującymi się pomiędzy określoną początkową i końcową wartością z użyciem określonej liczby elementów.\n",
    "* *np.fromfile(), np.fromstring(), np.loadtxt()* — tworzy tablice na podstawie danych z plików lub stringów."
   ]
  },
  {
   "cell_type": "code",
   "execution_count": 33,
   "id": "extreme-slovakia",
   "metadata": {},
   "outputs": [
    {
     "name": "stdout",
     "output_type": "stream",
     "text": [
      "[[0. 0.]\n",
      " [0. 0.]]\n"
     ]
    }
   ],
   "source": [
    "zeros = np.zeros((2,2))\n",
    "print(zeros)"
   ]
  },
  {
   "cell_type": "code",
   "execution_count": 34,
   "id": "encouraging-empty",
   "metadata": {},
   "outputs": [
    {
     "name": "stdout",
     "output_type": "stream",
     "text": [
      "[[1. 1. 1. 1. 1. 1. 1. 1. 1. 1.]\n",
      " [1. 1. 1. 1. 1. 1. 1. 1. 1. 1.]\n",
      " [1. 1. 1. 1. 1. 1. 1. 1. 1. 1.]\n",
      " [1. 1. 1. 1. 1. 1. 1. 1. 1. 1.]\n",
      " [1. 1. 1. 1. 1. 1. 1. 1. 1. 1.]]\n"
     ]
    }
   ],
   "source": [
    "ones = np.ones([5,10])\n",
    "print(ones)"
   ]
  },
  {
   "cell_type": "code",
   "execution_count": 35,
   "id": "educational-machinery",
   "metadata": {},
   "outputs": [
    {
     "data": {
      "text/plain": [
       "array([[1., 0., 0., 0., 0., 0., 0., 0., 0., 0.],\n",
       "       [0., 1., 0., 0., 0., 0., 0., 0., 0., 0.],\n",
       "       [0., 0., 1., 0., 0., 0., 0., 0., 0., 0.],\n",
       "       [0., 0., 0., 1., 0., 0., 0., 0., 0., 0.],\n",
       "       [0., 0., 0., 0., 1., 0., 0., 0., 0., 0.],\n",
       "       [0., 0., 0., 0., 0., 1., 0., 0., 0., 0.],\n",
       "       [0., 0., 0., 0., 0., 0., 1., 0., 0., 0.],\n",
       "       [0., 0., 0., 0., 0., 0., 0., 1., 0., 0.],\n",
       "       [0., 0., 0., 0., 0., 0., 0., 0., 1., 0.],\n",
       "       [0., 0., 0., 0., 0., 0., 0., 0., 0., 1.]])"
      ]
     },
     "execution_count": 35,
     "metadata": {},
     "output_type": "execute_result"
    }
   ],
   "source": [
    "np.identity(10)"
   ]
  },
  {
   "cell_type": "code",
   "execution_count": 36,
   "id": "harmful-resource",
   "metadata": {},
   "outputs": [
    {
     "data": {
      "text/plain": [
       "array([[1., 0., 0., 0., 0., 0., 0., 0., 0., 0.],\n",
       "       [0., 1., 0., 0., 0., 0., 0., 0., 0., 0.],\n",
       "       [0., 0., 1., 0., 0., 0., 0., 0., 0., 0.],\n",
       "       [0., 0., 0., 1., 0., 0., 0., 0., 0., 0.],\n",
       "       [0., 0., 0., 0., 1., 0., 0., 0., 0., 0.],\n",
       "       [0., 0., 0., 0., 0., 1., 0., 0., 0., 0.],\n",
       "       [0., 0., 0., 0., 0., 0., 1., 0., 0., 0.],\n",
       "       [0., 0., 0., 0., 0., 0., 0., 1., 0., 0.],\n",
       "       [0., 0., 0., 0., 0., 0., 0., 0., 1., 0.],\n",
       "       [0., 0., 0., 0., 0., 0., 0., 0., 0., 1.]])"
      ]
     },
     "execution_count": 36,
     "metadata": {},
     "output_type": "execute_result"
    }
   ],
   "source": [
    "np.eye(10)"
   ]
  },
  {
   "cell_type": "code",
   "execution_count": null,
   "id": "beautiful-subscription",
   "metadata": {},
   "outputs": [],
   "source": [
    "np.linspace(1,10,5) # Tablica 5 wartości rozmieszczonych równomiernie w przedziale [1,10]"
   ]
  },
  {
   "cell_type": "markdown",
   "id": "norman-trunk",
   "metadata": {},
   "source": [
    "## Operacje na macierzach"
   ]
  },
  {
   "cell_type": "markdown",
   "id": "lonely-central",
   "metadata": {},
   "source": [
    "### Indeksowanie"
   ]
  },
  {
   "cell_type": "code",
   "execution_count": 37,
   "id": "alert-mobile",
   "metadata": {},
   "outputs": [
    {
     "name": "stdout",
     "output_type": "stream",
     "text": [
      "[[1 2 3]\n",
      " [4 5 6]\n",
      " [7 8 9]]\n"
     ]
    }
   ],
   "source": [
    "A = np.array(([1,2,3],[4,5,6],[7,8,9]))\n",
    "print(A)"
   ]
  },
  {
   "cell_type": "code",
   "execution_count": 38,
   "id": "progressive-bermuda",
   "metadata": {},
   "outputs": [
    {
     "data": {
      "text/plain": [
       "5"
      ]
     },
     "execution_count": 38,
     "metadata": {},
     "output_type": "execute_result"
    }
   ],
   "source": [
    "A[1,1]"
   ]
  },
  {
   "cell_type": "code",
   "execution_count": 39,
   "id": "smooth-juice",
   "metadata": {},
   "outputs": [
    {
     "data": {
      "text/plain": [
       "1"
      ]
     },
     "execution_count": 39,
     "metadata": {},
     "output_type": "execute_result"
    }
   ],
   "source": [
    "A[0,0]"
   ]
  },
  {
   "cell_type": "code",
   "execution_count": 40,
   "id": "civilian-punch",
   "metadata": {},
   "outputs": [
    {
     "data": {
      "text/plain": [
       "array([[1],\n",
       "       [4]])"
      ]
     },
     "execution_count": 40,
     "metadata": {},
     "output_type": "execute_result"
    }
   ],
   "source": [
    "A[0:2,0:1]"
   ]
  },
  {
   "cell_type": "code",
   "execution_count": 41,
   "id": "becoming-encounter",
   "metadata": {},
   "outputs": [
    {
     "data": {
      "text/plain": [
       "9"
      ]
     },
     "execution_count": 41,
     "metadata": {},
     "output_type": "execute_result"
    }
   ],
   "source": [
    "A[-1,-1]"
   ]
  },
  {
   "cell_type": "code",
   "execution_count": 42,
   "id": "peripheral-creek",
   "metadata": {},
   "outputs": [
    {
     "data": {
      "text/plain": [
       "array([6, 7, 8, 9])"
      ]
     },
     "execution_count": 42,
     "metadata": {},
     "output_type": "execute_result"
    }
   ],
   "source": [
    "A[A>5]"
   ]
  },
  {
   "cell_type": "code",
   "execution_count": 43,
   "id": "super-phenomenon",
   "metadata": {},
   "outputs": [
    {
     "data": {
      "text/plain": [
       "array([2, 4, 6, 8])"
      ]
     },
     "execution_count": 43,
     "metadata": {},
     "output_type": "execute_result"
    }
   ],
   "source": [
    "A[A%2==0]"
   ]
  },
  {
   "cell_type": "code",
   "execution_count": 44,
   "id": "mineral-thumb",
   "metadata": {},
   "outputs": [
    {
     "data": {
      "text/plain": [
       "array([[ 1,  2,  3],\n",
       "       [ 4,  5, 37],\n",
       "       [37, 37, 37]])"
      ]
     },
     "execution_count": 44,
     "metadata": {},
     "output_type": "execute_result"
    }
   ],
   "source": [
    "B = A\n",
    "B[B>5] = 37 # Indeksowanie wraz z przypisaniem nowej wartości\n",
    "B"
   ]
  },
  {
   "cell_type": "markdown",
   "id": "static-services",
   "metadata": {},
   "source": [
    "### Operacje arytmetyczne"
   ]
  },
  {
   "cell_type": "code",
   "execution_count": 45,
   "id": "circular-oriental",
   "metadata": {},
   "outputs": [],
   "source": [
    "A = np.array(([1,2,3],[4,5,6],[7,8,9],[10,11,12]))\n",
    "B = np.array(([-1,-2,-3],[-4,-5,-6],[-7,-8,-9],[-10,-11,-12]))\n",
    "C = np.array(([20,21,22,23],[24,25,26,27],[28,29,30,31]))"
   ]
  },
  {
   "cell_type": "code",
   "execution_count": 46,
   "id": "crude-endorsement",
   "metadata": {},
   "outputs": [
    {
     "name": "stdout",
     "output_type": "stream",
     "text": [
      "[[ 1  2  3]\n",
      " [ 4  5  6]\n",
      " [ 7  8  9]\n",
      " [10 11 12]]\n",
      "[[ -1  -2  -3]\n",
      " [ -4  -5  -6]\n",
      " [ -7  -8  -9]\n",
      " [-10 -11 -12]]\n",
      "[[20 21 22 23]\n",
      " [24 25 26 27]\n",
      " [28 29 30 31]]\n"
     ]
    }
   ],
   "source": [
    "print(A)\n",
    "print(B)\n",
    "print(C)"
   ]
  },
  {
   "cell_type": "code",
   "execution_count": 47,
   "id": "accessory-choir",
   "metadata": {},
   "outputs": [
    {
     "data": {
      "text/plain": [
       "array([[0, 0, 0],\n",
       "       [0, 0, 0],\n",
       "       [0, 0, 0],\n",
       "       [0, 0, 0]])"
      ]
     },
     "execution_count": 47,
     "metadata": {},
     "output_type": "execute_result"
    }
   ],
   "source": [
    "A+B"
   ]
  },
  {
   "cell_type": "code",
   "execution_count": null,
   "id": "tracked-concentration",
   "metadata": {},
   "outputs": [],
   "source": [
    "A-B"
   ]
  },
  {
   "cell_type": "code",
   "execution_count": null,
   "id": "given-gazette",
   "metadata": {},
   "outputs": [],
   "source": [
    "B-A"
   ]
  },
  {
   "cell_type": "code",
   "execution_count": 48,
   "id": "vocational-denial",
   "metadata": {},
   "outputs": [
    {
     "data": {
      "text/plain": [
       "array([[  -1,   -4,   -9],\n",
       "       [ -16,  -25,  -36],\n",
       "       [ -49,  -64,  -81],\n",
       "       [-100, -121, -144]])"
      ]
     },
     "execution_count": 48,
     "metadata": {},
     "output_type": "execute_result"
    }
   ],
   "source": [
    "A*B # Mnożenie odpowiadających sobie elementów!!"
   ]
  },
  {
   "cell_type": "code",
   "execution_count": null,
   "id": "cheap-immune",
   "metadata": {},
   "outputs": [],
   "source": [
    "A/B # Dzielenie odpowiadających sobie elementów!!"
   ]
  },
  {
   "cell_type": "code",
   "execution_count": 49,
   "id": "demanding-image",
   "metadata": {},
   "outputs": [
    {
     "ename": "ValueError",
     "evalue": "operands could not be broadcast together with shapes (4,3) (3,4) ",
     "output_type": "error",
     "traceback": [
      "\u001b[1;31m---------------------------------------------------------------------------\u001b[0m",
      "\u001b[1;31mValueError\u001b[0m                                Traceback (most recent call last)",
      "Cell \u001b[1;32mIn [49], line 1\u001b[0m\n\u001b[1;32m----> 1\u001b[0m \u001b[43mA\u001b[49m\u001b[38;5;241;43m*\u001b[39;49m\u001b[43mC\u001b[49m \u001b[38;5;66;03m# Niepoprawne, wymiary nie są zgodne\u001b[39;00m\n",
      "\u001b[1;31mValueError\u001b[0m: operands could not be broadcast together with shapes (4,3) (3,4) "
     ]
    }
   ],
   "source": [
    "A*C # Niepoprawne, wymiary nie są zgodne"
   ]
  },
  {
   "cell_type": "code",
   "execution_count": 51,
   "id": "medium-raise",
   "metadata": {},
   "outputs": [
    {
     "data": {
      "text/plain": [
       "array([[152, 158, 164, 170],\n",
       "       [368, 383, 398, 413],\n",
       "       [584, 608, 632, 656],\n",
       "       [800, 833, 866, 899]])"
      ]
     },
     "execution_count": 51,
     "metadata": {},
     "output_type": "execute_result"
    }
   ],
   "source": [
    "np.dot(A,C) # Mnożenie macierzowe macierzy"
   ]
  },
  {
   "cell_type": "code",
   "execution_count": 50,
   "id": "harmful-programmer",
   "metadata": {},
   "outputs": [
    {
     "data": {
      "text/plain": [
       "array([[152, 158, 164, 170],\n",
       "       [368, 383, 398, 413],\n",
       "       [584, 608, 632, 656],\n",
       "       [800, 833, 866, 899]])"
      ]
     },
     "execution_count": 50,
     "metadata": {},
     "output_type": "execute_result"
    }
   ],
   "source": [
    "A @ C # Inny zapis, Python 3.5+"
   ]
  },
  {
   "cell_type": "code",
   "execution_count": null,
   "id": "gorgeous-module",
   "metadata": {},
   "outputs": [],
   "source": [
    "A.T # Macierz transponowana"
   ]
  },
  {
   "cell_type": "code",
   "execution_count": null,
   "id": "competitive-inspection",
   "metadata": {},
   "outputs": [],
   "source": [
    "np.transpose(A)"
   ]
  },
  {
   "cell_type": "markdown",
   "id": "revolutionary-church",
   "metadata": {},
   "source": [
    "***Zadanie 2.***  \n",
    "Zadeklaruj macierz \n",
    "$\\mathbf{M} =\\left[ \\begin{matrix}\n",
    "\\sqrt{2} & 1 & -\\sqrt{2}\\\\\n",
    "0 & 1 & 1\\\\\n",
    "-\\sqrt{2} & \\sqrt{2} & 1\n",
    "\\end{matrix}\\right]\n",
    "$    \n",
    "Wyznacz numerycznie jej macierz odwrotną (*np.linalg.inv*) i transponowaną. Oblicz wyznacznik tej macierzy (*np.linalg.det()*). Wypisz otrzymane wyniki. "
   ]
  },
  {
   "cell_type": "code",
   "execution_count": 7,
   "id": "alpine-breakdown",
   "metadata": {},
   "outputs": [
    {
     "name": "stdout",
     "output_type": "stream",
     "text": [
      "[[ 1.41421356  1.         -1.41421356]\n",
      " [ 0.          1.          1.        ]\n",
      " [-1.41421356  1.41421356  1.        ]]\n"
     ]
    }
   ],
   "source": [
    "\n",
    "\n",
    "m = np.array(([math.sqrt(2),1, -1*math.sqrt(2)],[0,1,1], [-1*math.sqrt(2), math.sqrt(2), 1] ))\n",
    "print(m)\n",
    "m_i = np.linalg.inv(m)\n",
    "print(m_i)\n",
    "m_t = np.transpose(m)\n",
    "print(m_t)\n",
    "det_m = np.linalg.det(m)\n",
    "print(det_m)"
   ]
  },
  {
   "cell_type": "markdown",
   "id": "radio-terry",
   "metadata": {},
   "source": [
    "# Wizualizacja danych"
   ]
  },
  {
   "cell_type": "markdown",
   "id": "numeric-premiere",
   "metadata": {},
   "source": [
    "Do wizualizacji wyników, tworzenia wykresów itd. wykorzystamy bibliotekę *matplotlib*, a konkretniej jej stanowe i obiektowe API zwane *pyplot*. Zwyczajowo importu dokonuje się w następujący sposób:"
   ]
  },
  {
   "cell_type": "code",
   "execution_count": 5,
   "id": "leading-newark",
   "metadata": {},
   "outputs": [],
   "source": [
    "import matplotlib.pyplot as plt"
   ]
  },
  {
   "cell_type": "markdown",
   "id": "silver-partnership",
   "metadata": {},
   "source": [
    "Tworzenie wykresu rozpoczyna się od utworzenia \"okna\":"
   ]
  },
  {
   "cell_type": "code",
   "execution_count": 9,
   "id": "mounted-dream",
   "metadata": {},
   "outputs": [
    {
     "data": {
      "text/plain": [
       "<Figure size 640x480 with 0 Axes>"
      ]
     },
     "metadata": {},
     "output_type": "display_data"
    }
   ],
   "source": [
    "fig = plt.figure()"
   ]
  },
  {
   "cell_type": "markdown",
   "id": "driven-restriction",
   "metadata": {},
   "source": [
    "Następnie można skorzystać z jednej z dostępnych metod wizualizacji. Do stworzenia wykresu potrzebne będą też dane. Funkcja *plt.plot()* pozwala wyświetlić dane przekazane w postaci tablic (np. tablic punktów X i Y)."
   ]
  },
  {
   "cell_type": "code",
   "execution_count": 10,
   "id": "communist-contributor",
   "metadata": {},
   "outputs": [],
   "source": [
    "X = np.linspace(0,2*np.pi, 1000)\n",
    "Y = np.sin(X)"
   ]
  },
  {
   "cell_type": "code",
   "execution_count": 11,
   "id": "further-energy",
   "metadata": {},
   "outputs": [
    {
     "data": {
      "text/plain": [
       "[<matplotlib.lines.Line2D at 0x28888476f20>]"
      ]
     },
     "execution_count": 11,
     "metadata": {},
     "output_type": "execute_result"
    },
    {
     "data": {
      "image/png": "[encoded data removed]",
      "text/plain": [
       "<Figure size 640x480 with 1 Axes>"
      ]
     },
     "metadata": {},
     "output_type": "display_data"
    }
   ],
   "source": [
    "plt.plot(X,Y)"
   ]
  },
  {
   "cell_type": "markdown",
   "id": "romantic-alcohol",
   "metadata": {},
   "source": [
    "Wykresy można również personalizować."
   ]
  },
  {
   "cell_type": "code",
   "execution_count": 12,
   "id": "composite-victory",
   "metadata": {},
   "outputs": [
    {
     "data": {
      "text/plain": [
       "Text(0, 0.5, 'sin(x)')"
      ]
     },
     "execution_count": 12,
     "metadata": {},
     "output_type": "execute_result"
    },
    {
     "data": {
      "image/png": "[encoded data removed]",
      "text/plain": [
       "<Figure size 640x480 with 1 Axes>"
      ]
     },
     "metadata": {},
     "output_type": "display_data"
    }
   ],
   "source": [
    "plt.plot(X,Y)\n",
    "plt.title('Wykres $sin(x)$')\n",
    "plt.xlim([0,2*np.pi])\n",
    "plt.xlabel('x')\n",
    "plt.ylabel('sin(x)')\n"
   ]
  },
  {
   "cell_type": "markdown",
   "id": "progressive-equivalent",
   "metadata": {},
   "source": [
    "Na jednym wykresie można pokazać kilka ,,obiektów''. Możliwe jest również dodanie siatki i legendy (treści ,,matematyczne'' wstawiamy między dolarami)."
   ]
  },
  {
   "cell_type": "code",
   "execution_count": 18,
   "id": "optical-toolbox",
   "metadata": {},
   "outputs": [
    {
     "data": {
      "text/plain": [
       "<matplotlib.lines.Line2D at 0x2888c65f190>"
      ]
     },
     "execution_count": 18,
     "metadata": {},
     "output_type": "execute_result"
    },
    {
     "data": {
      "image/png": "[encoded data removed]",
      "text/plain": [
       "<Figure size 640x480 with 1 Axes>"
      ]
     },
     "metadata": {},
     "output_type": "display_data"
    }
   ],
   "source": [
    "# plt.figure(figsize=(14,10)) # Stworzenie ,,większego'' okna\n",
    "X = np.linspace(-10,10, 1000)\n",
    "\n",
    "plt.plot(X,X**2, label = '$x^2$') # W argumencie label umieszcza się nazwy krzywych do legendy\n",
    "plt.plot(X,X**3, label = '$x^3$')\n",
    "plt.plot(X,np.tan(X), label = '$tg(x)$')\n",
    "plt.xlim([-10,10])\n",
    "plt.ylim([-100,100])\n",
    "plt.xlabel('x')\n",
    "plt.grid() # Wyświetlanie siatki\n",
    "plt.legend() # Dodanie legendy\n",
    "plt.axhline(y=0, color='k') # Dodanie osi x = 0\n",
    "plt.axvline(x=0, color='k') # Dodanie osi y = 0"
   ]
  },
  {
   "cell_type": "markdown",
   "id": "lesbian-recognition",
   "metadata": {},
   "source": [
    "Dane na wykresie niekoniecznie muszą mieć formę krzywych"
   ]
  },
  {
   "cell_type": "code",
   "execution_count": 19,
   "id": "abroad-thought",
   "metadata": {},
   "outputs": [
    {
     "data": {
      "text/plain": [
       "Text(0, 0.5, 'sin(x)')"
      ]
     },
     "execution_count": 19,
     "metadata": {},
     "output_type": "execute_result"
    },
    {
     "data": {
      "image/png": "[encoded data removed]",
      "text/plain": [
       "<Figure size 640x480 with 1 Axes>"
      ]
     },
     "metadata": {},
     "output_type": "display_data"
    }
   ],
   "source": [
    "plt.figure()\n",
    "X = np.linspace(0,2*np.pi, 50)\n",
    "plt.plot(X,np.sin(X), '*')\n",
    "plt.title('Wykres $sin(x)$')\n",
    "plt.xlim([0,2*np.pi])\n",
    "plt.xlabel('x')\n",
    "plt.ylabel('sin(x)')\n"
   ]
  },
  {
   "cell_type": "code",
   "execution_count": 20,
   "id": "legislative-swiss",
   "metadata": {},
   "outputs": [
    {
     "data": {
      "text/plain": [
       "Text(0, 0.5, 'sin(x)')"
      ]
     },
     "execution_count": 20,
     "metadata": {},
     "output_type": "execute_result"
    },
    {
     "data": {
      "image/png": "[encoded data removed]",
      "text/plain": [
       "<Figure size 640x480 with 1 Axes>"
      ]
     },
     "metadata": {},
     "output_type": "display_data"
    }
   ],
   "source": [
    "plt.figure()\n",
    "X = np.linspace(0,2*np.pi, 50)\n",
    "plt.plot(X,np.sin(X), 'r+')\n",
    "plt.title('Wykres $sin(x)$')\n",
    "plt.xlim([0,2*np.pi])\n",
    "plt.xlabel('x')\n",
    "plt.ylabel('sin(x)')"
   ]
  },
  {
   "cell_type": "markdown",
   "id": "killing-ensemble",
   "metadata": {},
   "source": [
    "***Zadanie 3.***\n",
    "\n",
    "Zdefinuj funkcję \n",
    "$f(x) = x^3 - 5x + 7$\n",
    "i stwórz jej wykresy w przedziałach:\n",
    "* $x\\in<-1,1>$ \n",
    "* $x\\in<-10,20>$\n",
    "\n",
    "Spersonalizuj wykresy: dodaj tytuły, opisy osi etc."
   ]
  },
  {
   "cell_type": "code",
   "execution_count": 6,
   "id": "balanced-gazette",
   "metadata": {},
   "outputs": [
    {
     "name": "stderr",
     "output_type": "stream",
     "text": [
      "No artists with labels found to put in legend.  Note that artists whose label start with an underscore are ignored when legend() is called with no argument.\n"
     ]
    },
    {
     "data": {
      "image/png": "[encoded data removed]",
      "text/plain": [
       "<Figure size 800x600 with 1 Axes>"
      ]
     },
     "metadata": {},
     "output_type": "display_data"
    },
    {
     "name": "stderr",
     "output_type": "stream",
     "text": [
      "No artists with labels found to put in legend.  Note that artists whose label start with an underscore are ignored when legend() is called with no argument.\n"
     ]
    },
    {
     "data": {
      "image/png": "[encoded data removed]",
      "text/plain": [
       "<Figure size 800x600 with 1 Axes>"
      ]
     },
     "metadata": {},
     "output_type": "display_data"
    }
   ],
   "source": [
    "def f(x):\n",
    "    return x**3 - 5*x + 7\n",
    "\n",
    "x1 = np.linspace(-1, 1, 100)\n",
    "y1 = f(x1)\n",
    "plt.figure(figsize=(8, 6))\n",
    "plt.plot(x1,y1)\n",
    "plt.title(\"wykres funkcji f(x) = x^3 -5x +7 w zakresie <-1, 1>\")\n",
    "plt.xlabel(\"x\")\n",
    "plt.ylabel(\"f(x)\")\n",
    "plt.legend()\n",
    "plt.grid(True)\n",
    "plt.show()\n",
    "\n",
    "x2 = np.linspace(-10,20,100)\n",
    "y2 = f(x2)\n",
    "plt.figure(figsize=(8, 6))\n",
    "plt.plot(x2,y2)\n",
    "plt.title(\"Wykres funkcji f(x) = x^3 -5x +7 w zakresie <-10, 20>\")\n",
    "plt.xlabel(\"x\")\n",
    "plt.ylabel(\"f(x)\")\n",
    "plt.legend()\n",
    "plt.grid(True)\n",
    "plt.show()"
   ]
  },
  {
   "cell_type": "markdown",
   "id": "c7370153",
   "metadata": {},
   "source": [
    "# Wizualizacja macierzy"
   ]
  },
  {
   "cell_type": "markdown",
   "id": "37c7cb34",
   "metadata": {},
   "source": [
    "W obliczeniach numerycznych często pojawia się potrzeba porównania zawartości dwóch macierzy lub wektorów. Jednym z prostych rozwiązań jest przedstawienie obu macierzy w postaci „graficznej”, w której kolory reprezentują wartości znajdujące się w macierzy."
   ]
  },
  {
   "cell_type": "code",
   "execution_count": 8,
   "id": "6eb7bdd3",
   "metadata": {},
   "outputs": [
    {
     "data": {
      "text/plain": [
       "Text(0.5, 1.0, 'Macierz B')"
      ]
     },
     "execution_count": 8,
     "metadata": {},
     "output_type": "execute_result"
    },
    {
     "data": {
      "image/png": "[encoded data removed]",
      "text/plain": [
       "<Figure size 640x480 with 2 Axes>"
      ]
     },
     "metadata": {},
     "output_type": "display_data"
    }
   ],
   "source": [
    "A = np.identity(5)\n",
    "B = np.diag([1,1,1,1,1])\n",
    "\n",
    "plt.subplot(1,2,1)\n",
    "plt.imshow(A)\n",
    "plt.title('Macierz A')\n",
    "\n",
    "plt.subplot(1,2,2)\n",
    "plt.imshow(B)\n",
    "plt.title('Macierz B')"
   ]
  },
  {
   "cell_type": "markdown",
   "id": "5c636dc0",
   "metadata": {},
   "source": [
    "Uwaga: kolorystykę można dostoswać za pomocą argumentu `cmap` (np. `cmap='gray'`)"
   ]
  },
  {
   "cell_type": "markdown",
   "id": "3e1e7c46",
   "metadata": {},
   "source": [
    "***Zadanie 4.***\n",
    "\n",
    "Zastanów się nad innymi sposobami porównywania macierzy. Jak można to zrobić, jak łatwo ocenić czy dwie macierze zawierają te same/podobne wartości?"
   ]
  },
  {
   "cell_type": "code",
   "execution_count": 9,
   "id": "c90d4565",
   "metadata": {},
   "outputs": [
    {
     "data": {
      "text/plain": [
       "True"
      ]
     },
     "execution_count": 9,
     "metadata": {},
     "output_type": "execute_result"
    }
   ],
   "source": [
    "import numpy as np\n",
    "np.array_equal(A,B)"
   ]
  },
  {
   "cell_type": "markdown",
   "id": "1e6c70b8",
   "metadata": {},
   "source": [
    "***Zadanie 5.***\n",
    "\n",
    "Stwórz kwadratową macierz wartości losowych o wymarach 10x10. Następnie przeprowadź jej rozklad QR za pomocą funkcji [`scipy.linalg.qr`](https://docs.scipy.org/doc/scipy/reference/generated/scipy.linalg.qr.html) (sprawdź, w dokumentacji jak działa ta funkcja oraz jakie wartości zwraca). W wyniku rozkładu otrzymasz dwie macierze `Q` i `R` (szczegóły na jednych z kolejnych zajęć). Następnie przypisz macierz Q do zmiennej i wyznacz jej **transpozycję** ($Q^T$) oraz **odwrotność** ($Q^{-1}$). Porównaj ze sobą te dwie macierz. Jaki wynik otrzymałeś i dlaczego? Powtórz obliczenia kilkukrotnie dla macierzy o różnych rozmiarach."
   ]
  },
  {
   "cell_type": "code",
   "execution_count": 41,
   "id": "b37cfb6f",
   "metadata": {},
   "outputs": [
    {
     "name": "stdout",
     "output_type": "stream",
     "text": [
      "[[ 3  1 11 11  6  8 12  5  4  4]\n",
      " [ 9  6  7  9  9 10  8  2 11  2]\n",
      " [10  4 11  4  2 12  6 10  6  7]\n",
      " [ 2  2  4  3 11  2  7  3  6  5]\n",
      " [11 13  6  5  2  2  3 14  1  9]\n",
      " [12 11  3  3  1  9  7 10  4  8]\n",
      " [11 12  1  8 14 13  9  1 12 13]\n",
      " [11 10  7  5 12 13  9  9 14 14]\n",
      " [ 2  3 13  4  8 12 11  5 11 11]\n",
      " [ 4 11  2  6  8 10  9  2 14  5]]\n",
      "[[-0.11172584 -0.1761043  -0.49318418 -0.60218121 -0.3225017  -0.0608341\n",
      "   0.27981359 -0.34481339  0.1606505  -0.14122012]\n",
      " [-0.33517752 -0.23142    -0.02717194 -0.40921493  0.01993777 -0.05796196\n",
      "  -0.26782938  0.58319063 -0.48287305 -0.13091321]\n",
      " [-0.37241946 -0.52103814 -0.14814337  0.2521753  -0.10021069  0.2493127\n",
      "  -0.20170044 -0.2127194  -0.03547286  0.58727695]\n",
      " [-0.07448389  0.01454954 -0.16823611 -0.05070508  0.5648297  -0.51590023\n",
      "   0.43483628  0.02991074 -0.13446914  0.41245757]\n",
      " [-0.40966141  0.27795106 -0.03568526  0.23443707 -0.41599059 -0.65797064\n",
      "  -0.26140909 -0.00345837  0.15604904  0.0038801 ]\n",
      " [-0.44690335 -0.01166708  0.25620542  0.22123932 -0.24962276  0.20532238\n",
      "   0.71762665  0.22255688 -0.01566981 -0.12774702]\n",
      " [-0.40966141  0.17898676  0.28625199 -0.3779268   0.33456834  0.17945761\n",
      "  -0.15679543  0.06116706  0.62323296  0.12035721]\n",
      " [-0.40966141 -0.01894185 -0.01355833  0.17027372  0.41644622  0.02537647\n",
      "  -0.10535815 -0.51743236 -0.25820001 -0.53203996]\n",
      " [-0.07448389  0.11351384 -0.72609456  0.33110337  0.18839267  0.20742503\n",
      "  -0.02890997  0.39376125  0.28033849 -0.1781395 ]\n",
      " [-0.14896778  0.7218492  -0.17184061 -0.13564187 -0.1015158   0.33715423\n",
      "  -0.01903878 -0.13703691 -0.40424209  0.31981671]]\n",
      "[[-26.85144316 -24.87762002 -16.31197241 -15.86506905 -18.95615058\n",
      "  -26.73971733 -20.66928011 -20.14789286 -22.56861936 -23.98381331]\n",
      " [  0.          10.10465349  -4.6318314    1.41665823   5.48421466\n",
      "    1.16574734   2.94888919  -0.71567251   7.17951024   4.58598663]\n",
      " [  0.           0.         -16.9548133   -7.88986296  -8.50435506\n",
      "  -10.98343052 -13.59507927  -6.25387324 -10.32836998  -7.49157267]\n",
      " [  0.           0.           0.          -9.27592184  -8.34331181\n",
      "   -3.60754559  -6.53730858   6.57358396  -4.9900118    2.59910682]\n",
      " [  0.           0.           0.           0.          13.55185735\n",
      "    5.47665242   4.56450255  -4.37883057  10.79870633   6.87602079]\n",
      " [  0.           0.           0.           0.           0.\n",
      "    9.94910536   3.31378455  -4.51375377   7.19347218   1.18293676]\n",
      " [  0.           0.           0.           0.           0.\n",
      "    0.           4.4391978    2.37980678  -1.76006808   0.80764712]\n",
      " [  0.           0.           0.           0.           0.\n",
      "    0.           0.          -3.31898766   0.72856924  -2.60571684]\n",
      " [  0.           0.           0.           0.           0.\n",
      "    0.           0.           0.          -4.30695433   5.58502433]\n",
      " [  0.           0.           0.           0.           0.\n",
      "    0.           0.           0.           0.          -1.88490216]]\n",
      "[[-0.11172584 -0.33517752 -0.37241946 -0.07448389 -0.40966141 -0.44690335\n",
      "  -0.40966141 -0.40966141 -0.07448389 -0.14896778]\n",
      " [-0.1761043  -0.23142    -0.52103814  0.01454954  0.27795106 -0.01166708\n",
      "   0.17898676 -0.01894185  0.11351384  0.7218492 ]\n",
      " [-0.49318418 -0.02717194 -0.14814337 -0.16823611 -0.03568526  0.25620542\n",
      "   0.28625199 -0.01355833 -0.72609456 -0.17184061]\n",
      " [-0.60218121 -0.40921493  0.2521753  -0.05070508  0.23443707  0.22123932\n",
      "  -0.3779268   0.17027372  0.33110337 -0.13564187]\n",
      " [-0.3225017   0.01993777 -0.10021069  0.5648297  -0.41599059 -0.24962276\n",
      "   0.33456834  0.41644622  0.18839267 -0.1015158 ]\n",
      " [-0.0608341  -0.05796196  0.2493127  -0.51590023 -0.65797064  0.20532238\n",
      "   0.17945761  0.02537647  0.20742503  0.33715423]\n",
      " [ 0.27981359 -0.26782938 -0.20170044  0.43483628 -0.26140909  0.71762665\n",
      "  -0.15679543 -0.10535815 -0.02890997 -0.01903878]\n",
      " [-0.34481339  0.58319063 -0.2127194   0.02991074 -0.00345837  0.22255688\n",
      "   0.06116706 -0.51743236  0.39376125 -0.13703691]\n",
      " [ 0.1606505  -0.48287305 -0.03547286 -0.13446914  0.15604904 -0.01566981\n",
      "   0.62323296 -0.25820001  0.28033849 -0.40424209]\n",
      " [-0.14122012 -0.13091321  0.58727695  0.41245757  0.0038801  -0.12774702\n",
      "   0.12035721 -0.53203996 -0.1781395   0.31981671]]\n",
      "Odwrotność macierzy:\n",
      "[[-0.11172584 -0.33517752 -0.37241946 -0.07448389 -0.40966141 -0.44690335\n",
      "  -0.40966141 -0.40966141 -0.07448389 -0.14896778]\n",
      " [-0.1761043  -0.23142    -0.52103814  0.01454954  0.27795106 -0.01166708\n",
      "   0.17898676 -0.01894185  0.11351384  0.7218492 ]\n",
      " [-0.49318418 -0.02717194 -0.14814337 -0.16823611 -0.03568526  0.25620542\n",
      "   0.28625199 -0.01355833 -0.72609456 -0.17184061]\n",
      " [-0.60218121 -0.40921493  0.2521753  -0.05070508  0.23443707  0.22123932\n",
      "  -0.3779268   0.17027372  0.33110337 -0.13564187]\n",
      " [-0.3225017   0.01993777 -0.10021069  0.5648297  -0.41599059 -0.24962276\n",
      "   0.33456834  0.41644622  0.18839267 -0.1015158 ]\n",
      " [-0.0608341  -0.05796196  0.2493127  -0.51590023 -0.65797064  0.20532238\n",
      "   0.17945761  0.02537647  0.20742503  0.33715423]\n",
      " [ 0.27981359 -0.26782938 -0.20170044  0.43483628 -0.26140909  0.71762665\n",
      "  -0.15679543 -0.10535815 -0.02890997 -0.01903878]\n",
      " [-0.34481339  0.58319063 -0.2127194   0.02991074 -0.00345837  0.22255688\n",
      "   0.06116706 -0.51743236  0.39376125 -0.13703691]\n",
      " [ 0.1606505  -0.48287305 -0.03547286 -0.13446914  0.15604904 -0.01566981\n",
      "   0.62323296 -0.25820001  0.28033849 -0.40424209]\n",
      " [-0.14122012 -0.13091321  0.58727695  0.41245757  0.0038801  -0.12774702\n",
      "   0.12035721 -0.53203996 -0.1781395   0.31981671]]\n"
     ]
    }
   ],
   "source": [
    "import numpy as np\n",
    "from scipy.linalg import qr\n",
    "\n",
    "n = 10\n",
    "\n",
    "A = np.random.rand(n, n)\n",
    "\n",
    "Q, R = qr(A)\n",
    "\n",
    "Q_transpose = np.transpose(Q)\n",
    "Q_inverse = np.linalg.inv(Q)\n",
    "\n",
    "are_equal_transpose = np.allclose(Q, Q_transpose)\n",
    "are_equal_inverse = np.allclose(Q, Q_inverse)\n",
    "\n",
    "print(\"Czy macierz Q jest równa swojej transpozycji?\", are_equal_transpose)\n",
    "print(\"Czy macierz Q jest równa swojej odwrotności?\", are_equal_inverse)"
   ]
  },
  {
   "cell_type": "code",
   "execution_count": null,
   "id": "e0a6656b",
   "metadata": {},
   "outputs": [],
   "source": []
  },
  {
   "cell_type": "code",
   "execution_count": null,
   "id": "371731e7",
   "metadata": {},
   "outputs": [],
   "source": []
  }
 ],
 "metadata": {
  "kernelspec": {
   "display_name": "Python 3.10.2 64-bit",
   "language": "python",
   "name": "python3"
  },
  "language_info": {
   "codemirror_mode": {
    "name": "ipython",
    "version": 3
   },
   "file_extension": ".py",
   "mimetype": "text/x-python",
   "name": "python",
   "nbconvert_exporter": "python",
   "pygments_lexer": "ipython3",
   "version": "3.10.2"
  },
  "vscode": {
   "interpreter": {
    "hash": "c7d95adfb569919125bf17e142636d5e787320dfe2221022622e2b3afdc2b49e"
   }
  }
 },
 "nbformat": 4,
 "nbformat_minor": 5
}
